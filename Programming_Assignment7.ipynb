{
 "cells": [
  {
   "cell_type": "markdown",
   "id": "8f8fdd65",
   "metadata": {},
   "source": [
    "# 1. Write a Python Program to find sum of array?"
   ]
  },
  {
   "cell_type": "code",
   "execution_count": 1,
   "id": "860dbaab",
   "metadata": {},
   "outputs": [
    {
     "name": "stdout",
     "output_type": "stream",
     "text": [
      "The sum of an array is 32\n"
     ]
    }
   ],
   "source": [
    "arr=[1,2,3,6,7,0,13]\n",
    "ans=sum(arr)\n",
    "print(f\"The sum of an array is {ans}\")"
   ]
  },
  {
   "cell_type": "markdown",
   "id": "dc8a03ea",
   "metadata": {},
   "source": [
    "ALTERNATIVE APPROACH"
   ]
  },
  {
   "cell_type": "code",
   "execution_count": null,
   "id": "77a329e0",
   "metadata": {},
   "outputs": [],
   "source": []
  },
  {
   "cell_type": "markdown",
   "id": "7f802beb",
   "metadata": {},
   "source": [
    "# 2. Write a Python Program to find largest element in an array?"
   ]
  },
  {
   "cell_type": "code",
   "execution_count": 2,
   "id": "73bd8514",
   "metadata": {},
   "outputs": [
    {
     "name": "stdout",
     "output_type": "stream",
     "text": [
      "The largest elemennty of an array is 16\n"
     ]
    }
   ],
   "source": [
    "arr=[4,5,6,1,2,3,16,9]\n",
    "ans=max(arr)\n",
    "print(f\"The largest elemennty of an array is {ans}\")"
   ]
  },
  {
   "cell_type": "markdown",
   "id": "d012227f",
   "metadata": {},
   "source": [
    "ALTERNATIVE APPROACH"
   ]
  },
  {
   "cell_type": "code",
   "execution_count": 19,
   "id": "491ca978",
   "metadata": {},
   "outputs": [
    {
     "name": "stdout",
     "output_type": "stream",
     "text": [
      "The largest elemennty of an array is 16\n"
     ]
    }
   ],
   "source": [
    "def large(arr):\n",
    "    n=len(arr)\n",
    "    maxi=0\n",
    "    for i in range(n):\n",
    "        if arr[i]>maxi:\n",
    "            maxi=arr[i]\n",
    "    return maxi\n",
    "    \n",
    "arr=[4,5,6,1,2,3,16,9]\n",
    "ans=large(arr)\n",
    "print(f\"The largest elemennty of an array is {ans}\")"
   ]
  },
  {
   "cell_type": "markdown",
   "id": "f9bd04fd",
   "metadata": {},
   "source": [
    "# 3. Write a Python Program for array rotation?"
   ]
  },
  {
   "cell_type": "code",
   "execution_count": 34,
   "id": "c1bcc745",
   "metadata": {},
   "outputs": [
    {
     "name": "stdout",
     "output_type": "stream",
     "text": [
      "Enter the no by which you want to rotate an array:3\n",
      "Array before rotate [1, 2, 3, 4, 5, 6, 7]\n",
      "Array after rotate[4, 5, 6, 7, 1, 2, 3]\n"
     ]
    }
   ],
   "source": [
    "def rotate(arr,n,m):\n",
    "    l=list()\n",
    "    l=arr[n:m]+arr[0:n]\n",
    "    return l\n",
    "\n",
    "arr=[1,2,3,4,5,6,7]\n",
    "n=int(input(\"Enter the no by which you want to rotate an array:\"))\n",
    "m=len(arr)\n",
    "print(f\"Array before rotate {arr}\")\n",
    "res=rotate(arr,n,m)\n",
    "print(f\"Array after rotate{res}\")"
   ]
  },
  {
   "cell_type": "markdown",
   "id": "57fa72cd",
   "metadata": {},
   "source": [
    "# 4. Write a Python Program to Split the array and add the first part to the end?"
   ]
  },
  {
   "cell_type": "code",
   "execution_count": 39,
   "id": "817e6dc8",
   "metadata": {},
   "outputs": [
    {
     "name": "stdout",
     "output_type": "stream",
     "text": [
      "[4, 5, 6, 7, 1, 2, 3]\n"
     ]
    }
   ],
   "source": [
    "def split(arr,n):\n",
    "    l=list()\n",
    "    m=len(arr)\n",
    "    for i in range(n):\n",
    "        l=arr[n:m]+arr[0:n]\n",
    "    return l\n",
    "\n",
    "arr=[1,2,3,4,5,6,7]\n",
    "m=len(arr)\n",
    "n=m//2\n",
    "result=split(arr,n)\n",
    "print(result)\n"
   ]
  },
  {
   "cell_type": "markdown",
   "id": "0c035304",
   "metadata": {},
   "source": [
    "# 5. Write a Python Program to check if given array is Monotonic?"
   ]
  },
  {
   "cell_type": "code",
   "execution_count": 29,
   "id": "e131da8e",
   "metadata": {},
   "outputs": [
    {
     "name": "stdout",
     "output_type": "stream",
     "text": [
      "False\n"
     ]
    }
   ],
   "source": [
    "def isMonotonic(arr):\n",
    "    x, y = [], []\n",
    "    x.extend(arr)\n",
    "    y.extend(arr)\n",
    "    x.sort()\n",
    "    y.sort(reverse=True)\n",
    "    if(x == arr or y == arr):\n",
    "        return True\n",
    "    return False\n",
    "\n",
    "\n",
    "arr= [6, 5, 7]\n",
    "print(isMonotonic(arr))\n",
    "\n"
   ]
  },
  {
   "cell_type": "code",
   "execution_count": 30,
   "id": "9c8a72fe",
   "metadata": {},
   "outputs": [
    {
     "name": "stdout",
     "output_type": "stream",
     "text": [
      "True\n"
     ]
    }
   ],
   "source": [
    "arr= [1,2,3]\n",
    "print(isMonotonic(arr))"
   ]
  },
  {
   "cell_type": "code",
   "execution_count": null,
   "id": "b6efae2b",
   "metadata": {},
   "outputs": [],
   "source": []
  }
 ],
 "metadata": {
  "kernelspec": {
   "display_name": "Python 3 (ipykernel)",
   "language": "python",
   "name": "python3"
  },
  "language_info": {
   "codemirror_mode": {
    "name": "ipython",
    "version": 3
   },
   "file_extension": ".py",
   "mimetype": "text/x-python",
   "name": "python",
   "nbconvert_exporter": "python",
   "pygments_lexer": "ipython3",
   "version": "3.9.7"
  }
 },
 "nbformat": 4,
 "nbformat_minor": 5
}
